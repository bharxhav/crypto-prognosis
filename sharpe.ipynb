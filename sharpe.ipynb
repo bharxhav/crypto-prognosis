{
 "cells": [
  {
   "cell_type": "code",
   "execution_count": 1,
   "metadata": {},
   "outputs": [
    {
     "data": {
      "text/plain": [
       "(22.47449534864956, 3.5587378920925583)"
      ]
     },
     "execution_count": 1,
     "metadata": {},
     "output_type": "execute_result"
    }
   ],
   "source": [
    "import numpy as np\n",
    "\n",
    "# Data for RF regressor model\n",
    "days_traded_rf = 0.393\n",
    "win_percent_rf = 0.909\n",
    "loss_percent_rf = 0.091\n",
    "overall_win_days_rf = 0.357\n",
    "overall_loss_days_rf = 0.036\n",
    "\n",
    "# Data for LSTM model\n",
    "days_traded_lstm = 0.32\n",
    "win_percent_lstm = 0.61\n",
    "loss_percent_lstm = 0.39\n",
    "overall_win_days_lstm = 0.195\n",
    "overall_loss_days_lstm = 0.125\n",
    "\n",
    "# Calculate returns and standard deviation for RF regressor\n",
    "returns_rf = np.array([1]*int(overall_win_days_rf*1000) +\n",
    "                      [-1]*int(overall_loss_days_rf*1000))\n",
    "sharpe_ratio_rf = returns_rf.mean() / returns_rf.std() * \\\n",
    "    np.sqrt(252)  # Annualizing with 252 trading days\n",
    "\n",
    "# Calculate returns and standard deviation for LSTM model\n",
    "returns_lstm = np.array(\n",
    "    [1]*int(overall_win_days_lstm*1000) + [-1]*int(overall_loss_days_lstm*1000))\n",
    "sharpe_ratio_lstm = returns_lstm.mean() / returns_lstm.std() * \\\n",
    "    np.sqrt(252)  # Annualizing with 252 trading days\n",
    "\n",
    "sharpe_ratio_rf, sharpe_ratio_lstm"
   ]
  },
  {
   "cell_type": "code",
   "execution_count": null,
   "metadata": {},
   "outputs": [],
   "source": []
  }
 ],
 "metadata": {
  "kernelspec": {
   "display_name": "Python 3",
   "language": "python",
   "name": "python3"
  },
  "language_info": {
   "codemirror_mode": {
    "name": "ipython",
    "version": 3
   },
   "file_extension": ".py",
   "mimetype": "text/x-python",
   "name": "python",
   "nbconvert_exporter": "python",
   "pygments_lexer": "ipython3",
   "version": "3.11.5"
  }
 },
 "nbformat": 4,
 "nbformat_minor": 2
}
