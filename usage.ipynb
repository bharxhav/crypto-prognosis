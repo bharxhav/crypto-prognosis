{
 "cells": [
  {
   "cell_type": "code",
   "execution_count": 1,
   "metadata": {},
   "outputs": [],
   "source": [
    "from token_predictor import TokenPredictor\n",
    "\n",
    "tp = TokenPredictor()"
   ]
  },
  {
   "cell_type": "code",
   "execution_count": 2,
   "metadata": {},
   "outputs": [
    {
     "name": "stdout",
     "output_type": "stream",
     "text": [
      "(1108, 24)\n",
      "(1108, 1)\n"
     ]
    }
   ],
   "source": [
    "x, y = tp._load_and_preprocess_data('GBTC', ['ETCG', 'ETHE', 'GDLC'])\n",
    "\n",
    "print(x.shape)\n",
    "print(y.shape)"
   ]
  },
  {
   "cell_type": "code",
   "execution_count": 3,
   "metadata": {},
   "outputs": [
    {
     "name": "stdout",
     "output_type": "stream",
     "text": [
      "(958, 150, 24)\n",
      "(958, 1)\n",
      "\n",
      "(766, 150, 24)\n",
      "(192, 150, 24)\n",
      "(766, 1)\n",
      "(192, 1)\n",
      "\n",
      "(150, 24)\n"
     ]
    }
   ],
   "source": [
    "x_train, x_test, y_train, y_test = tp._lstm_chunking(x, y)\n",
    "\n",
    "print(x_train.shape)\n",
    "print(x_test.shape)\n",
    "print(y_train.shape)\n",
    "print(y_test.shape)\n",
    "\n",
    "print()\n",
    "print(tp.x_last.shape)"
   ]
  },
  {
   "cell_type": "code",
   "execution_count": 4,
   "metadata": {},
   "outputs": [
    {
     "name": "stderr",
     "output_type": "stream",
     "text": [
      "2024-04-20 10:55:17.701846: I metal_plugin/src/device/metal_device.cc:1154] Metal device set to: Apple M2 Max\n",
      "2024-04-20 10:55:17.701868: I metal_plugin/src/device/metal_device.cc:296] systemMemory: 32.00 GB\n",
      "2024-04-20 10:55:17.701875: I metal_plugin/src/device/metal_device.cc:313] maxCacheSize: 10.67 GB\n",
      "2024-04-20 10:55:17.701906: I tensorflow/core/common_runtime/pluggable_device/pluggable_device_factory.cc:306] Could not identify NUMA node of platform GPU ID 0, defaulting to 0. Your kernel may not have been built with NUMA support.\n",
      "2024-04-20 10:55:17.701922: I tensorflow/core/common_runtime/pluggable_device/pluggable_device_factory.cc:272] Created TensorFlow device (/job:localhost/replica:0/task:0/device:GPU:0 with 0 MB memory) -> physical PluggableDevice (device: 0, name: METAL, pci bus id: <undefined>)\n"
     ]
    },
    {
     "name": "stdout",
     "output_type": "stream",
     "text": [
      "Epoch 1/100\n"
     ]
    },
    {
     "name": "stderr",
     "output_type": "stream",
     "text": [
      "2024-04-20 10:55:19.979838: I tensorflow/core/grappler/optimizers/custom_graph_optimizer_registry.cc:117] Plugin optimizer for device_type GPU is enabled.\n"
     ]
    },
    {
     "name": "stdout",
     "output_type": "stream",
     "text": [
      "6/6 [==============================] - 4s 219ms/step - loss: 0.8659 - val_loss: nan\n",
      "Epoch 2/100\n",
      "6/6 [==============================] - 0s 35ms/step - loss: 0.6573 - val_loss: nan\n",
      "Epoch 3/100\n",
      "6/6 [==============================] - 0s 34ms/step - loss: 0.4892 - val_loss: nan\n",
      "Epoch 4/100\n",
      "6/6 [==============================] - 0s 34ms/step - loss: 0.4057 - val_loss: nan\n",
      "Epoch 5/100\n",
      "6/6 [==============================] - 0s 34ms/step - loss: 0.3573 - val_loss: nan\n",
      "Epoch 6/100\n",
      "6/6 [==============================] - 0s 37ms/step - loss: 0.3202 - val_loss: nan\n",
      "Epoch 7/100\n",
      "6/6 [==============================] - 0s 41ms/step - loss: 0.2841 - val_loss: nan\n",
      "Epoch 8/100\n",
      "6/6 [==============================] - 0s 34ms/step - loss: 0.2458 - val_loss: nan\n",
      "Epoch 9/100\n",
      "6/6 [==============================] - 0s 34ms/step - loss: 0.2037 - val_loss: nan\n",
      "Epoch 10/100\n",
      "6/6 [==============================] - 0s 33ms/step - loss: 0.1675 - val_loss: nan\n",
      "Epoch 11/100\n",
      "6/6 [==============================] - 0s 33ms/step - loss: 0.1396 - val_loss: nan\n",
      "Epoch 12/100\n",
      "6/6 [==============================] - 0s 35ms/step - loss: 0.1207 - val_loss: nan\n",
      "Epoch 13/100\n",
      "6/6 [==============================] - 0s 33ms/step - loss: 0.1052 - val_loss: nan\n",
      "Epoch 14/100\n",
      "6/6 [==============================] - 0s 33ms/step - loss: 0.0932 - val_loss: nan\n",
      "Epoch 15/100\n",
      "6/6 [==============================] - 0s 34ms/step - loss: 0.0836 - val_loss: nan\n",
      "Epoch 16/100\n",
      "6/6 [==============================] - 0s 34ms/step - loss: 0.0770 - val_loss: nan\n",
      "Epoch 17/100\n",
      "6/6 [==============================] - 0s 34ms/step - loss: 0.0711 - val_loss: nan\n",
      "Epoch 18/100\n",
      "6/6 [==============================] - 0s 33ms/step - loss: 0.0659 - val_loss: nan\n",
      "Epoch 19/100\n",
      "6/6 [==============================] - 0s 33ms/step - loss: 0.0627 - val_loss: nan\n",
      "Epoch 20/100\n",
      "6/6 [==============================] - 0s 38ms/step - loss: 0.0608 - val_loss: nan\n",
      "Epoch 21/100\n",
      "6/6 [==============================] - 0s 39ms/step - loss: 0.0558 - val_loss: nan\n",
      "Epoch 22/100\n",
      "6/6 [==============================] - 0s 37ms/step - loss: 0.0535 - val_loss: nan\n",
      "Epoch 23/100\n",
      "6/6 [==============================] - 0s 33ms/step - loss: 0.0479 - val_loss: nan\n",
      "Epoch 24/100\n",
      "6/6 [==============================] - 0s 34ms/step - loss: 0.0441 - val_loss: nan\n",
      "Epoch 25/100\n",
      "6/6 [==============================] - 0s 34ms/step - loss: 0.0419 - val_loss: nan\n",
      "Epoch 26/100\n",
      "6/6 [==============================] - 0s 36ms/step - loss: 0.0410 - val_loss: nan\n",
      "Epoch 27/100\n",
      "6/6 [==============================] - 0s 34ms/step - loss: 0.0399 - val_loss: nan\n",
      "Epoch 28/100\n",
      "6/6 [==============================] - 0s 35ms/step - loss: 0.0375 - val_loss: nan\n",
      "Epoch 29/100\n",
      "6/6 [==============================] - 0s 34ms/step - loss: 0.0359 - val_loss: nan\n",
      "Epoch 30/100\n",
      "6/6 [==============================] - 0s 34ms/step - loss: 0.0340 - val_loss: nan\n",
      "Epoch 31/100\n",
      "6/6 [==============================] - 0s 34ms/step - loss: 0.0330 - val_loss: nan\n",
      "Epoch 32/100\n",
      "6/6 [==============================] - 0s 34ms/step - loss: 0.0315 - val_loss: nan\n",
      "Epoch 33/100\n",
      "6/6 [==============================] - 0s 35ms/step - loss: 0.0317 - val_loss: nan\n",
      "Epoch 34/100\n",
      "6/6 [==============================] - 0s 38ms/step - loss: 0.0322 - val_loss: nan\n",
      "Epoch 35/100\n",
      "6/6 [==============================] - 0s 40ms/step - loss: 0.0307 - val_loss: nan\n",
      "Epoch 36/100\n",
      "6/6 [==============================] - 0s 39ms/step - loss: 0.0321 - val_loss: nan\n",
      "Epoch 37/100\n",
      "6/6 [==============================] - 0s 38ms/step - loss: 0.0299 - val_loss: nan\n",
      "Epoch 38/100\n",
      "6/6 [==============================] - 0s 38ms/step - loss: 0.0283 - val_loss: nan\n",
      "Epoch 39/100\n",
      "6/6 [==============================] - 0s 38ms/step - loss: 0.0259 - val_loss: nan\n",
      "Epoch 40/100\n",
      "6/6 [==============================] - 0s 37ms/step - loss: 0.0248 - val_loss: nan\n",
      "Epoch 41/100\n",
      "6/6 [==============================] - 0s 38ms/step - loss: 0.0237 - val_loss: nan\n",
      "Epoch 42/100\n",
      "6/6 [==============================] - 0s 33ms/step - loss: 0.0232 - val_loss: nan\n",
      "Epoch 43/100\n",
      "6/6 [==============================] - 0s 33ms/step - loss: 0.0228 - val_loss: nan\n",
      "Epoch 44/100\n",
      "6/6 [==============================] - 0s 34ms/step - loss: 0.0225 - val_loss: nan\n",
      "Epoch 45/100\n",
      "6/6 [==============================] - 0s 36ms/step - loss: 0.0222 - val_loss: nan\n",
      "Epoch 46/100\n",
      "6/6 [==============================] - 0s 34ms/step - loss: 0.0219 - val_loss: nan\n",
      "Epoch 47/100\n",
      "6/6 [==============================] - 0s 35ms/step - loss: 0.0217 - val_loss: nan\n",
      "Epoch 48/100\n",
      "6/6 [==============================] - 0s 36ms/step - loss: 0.0210 - val_loss: nan\n",
      "Epoch 49/100\n",
      "6/6 [==============================] - 0s 36ms/step - loss: 0.0200 - val_loss: nan\n",
      "Epoch 50/100\n",
      "6/6 [==============================] - 0s 36ms/step - loss: 0.0204 - val_loss: nan\n",
      "Epoch 51/100\n",
      "6/6 [==============================] - 0s 35ms/step - loss: 0.0193 - val_loss: nan\n",
      "Epoch 52/100\n",
      "6/6 [==============================] - 0s 36ms/step - loss: 0.0195 - val_loss: nan\n",
      "Epoch 53/100\n",
      "6/6 [==============================] - 0s 35ms/step - loss: 0.0194 - val_loss: nan\n",
      "Epoch 54/100\n",
      "6/6 [==============================] - 0s 34ms/step - loss: 0.0183 - val_loss: nan\n",
      "Epoch 55/100\n",
      "6/6 [==============================] - 0s 35ms/step - loss: 0.0178 - val_loss: nan\n",
      "Epoch 56/100\n",
      "6/6 [==============================] - 0s 35ms/step - loss: 0.0180 - val_loss: nan\n",
      "Epoch 57/100\n",
      "6/6 [==============================] - 0s 34ms/step - loss: 0.0177 - val_loss: nan\n",
      "Epoch 58/100\n",
      "6/6 [==============================] - 0s 34ms/step - loss: 0.0173 - val_loss: nan\n",
      "Epoch 59/100\n",
      "6/6 [==============================] - 0s 35ms/step - loss: 0.0171 - val_loss: nan\n",
      "Epoch 60/100\n",
      "6/6 [==============================] - 0s 34ms/step - loss: 0.0172 - val_loss: nan\n",
      "Epoch 61/100\n",
      "6/6 [==============================] - 0s 43ms/step - loss: 0.0174 - val_loss: nan\n",
      "Epoch 62/100\n",
      "6/6 [==============================] - 0s 36ms/step - loss: 0.0167 - val_loss: nan\n",
      "Epoch 63/100\n",
      "6/6 [==============================] - 0s 36ms/step - loss: 0.0166 - val_loss: nan\n",
      "Epoch 64/100\n",
      "6/6 [==============================] - 0s 35ms/step - loss: 0.0166 - val_loss: nan\n",
      "Epoch 65/100\n",
      "6/6 [==============================] - 0s 35ms/step - loss: 0.0166 - val_loss: nan\n",
      "Epoch 66/100\n",
      "6/6 [==============================] - 0s 34ms/step - loss: 0.0169 - val_loss: nan\n",
      "Epoch 67/100\n",
      "6/6 [==============================] - 0s 34ms/step - loss: 0.0165 - val_loss: nan\n",
      "Epoch 68/100\n",
      "6/6 [==============================] - 0s 34ms/step - loss: 0.0164 - val_loss: nan\n",
      "Epoch 69/100\n",
      "6/6 [==============================] - 0s 35ms/step - loss: 0.0169 - val_loss: nan\n",
      "Epoch 70/100\n",
      "6/6 [==============================] - 0s 35ms/step - loss: 0.0176 - val_loss: nan\n",
      "Epoch 71/100\n",
      "6/6 [==============================] - 0s 39ms/step - loss: 0.0164 - val_loss: nan\n",
      "Epoch 72/100\n",
      "6/6 [==============================] - 0s 35ms/step - loss: 0.0155 - val_loss: nan\n",
      "Epoch 73/100\n",
      "6/6 [==============================] - 0s 35ms/step - loss: 0.0166 - val_loss: nan\n",
      "Epoch 74/100\n",
      "6/6 [==============================] - 0s 36ms/step - loss: 0.0173 - val_loss: nan\n",
      "Epoch 75/100\n",
      "6/6 [==============================] - 0s 35ms/step - loss: 0.0165 - val_loss: nan\n",
      "Epoch 76/100\n",
      "6/6 [==============================] - 0s 33ms/step - loss: 0.0168 - val_loss: nan\n",
      "Epoch 77/100\n",
      "6/6 [==============================] - 0s 35ms/step - loss: 0.0160 - val_loss: nan\n",
      "Epoch 78/100\n",
      "6/6 [==============================] - 0s 37ms/step - loss: 0.0157 - val_loss: nan\n",
      "Epoch 79/100\n",
      "6/6 [==============================] - 0s 36ms/step - loss: 0.0155 - val_loss: nan\n",
      "Epoch 80/100\n",
      "6/6 [==============================] - 0s 35ms/step - loss: 0.0154 - val_loss: nan\n",
      "Epoch 81/100\n",
      "6/6 [==============================] - 0s 36ms/step - loss: 0.0154 - val_loss: nan\n",
      "Epoch 82/100\n",
      "6/6 [==============================] - 0s 35ms/step - loss: 0.0154 - val_loss: nan\n",
      "Epoch 83/100\n",
      "6/6 [==============================] - 0s 34ms/step - loss: 0.0154 - val_loss: nan\n",
      "Epoch 84/100\n",
      "6/6 [==============================] - 0s 34ms/step - loss: 0.0151 - val_loss: nan\n",
      "Epoch 85/100\n",
      "6/6 [==============================] - 0s 39ms/step - loss: 0.0152 - val_loss: nan\n",
      "Epoch 86/100\n",
      "6/6 [==============================] - 0s 36ms/step - loss: 0.0149 - val_loss: nan\n",
      "Epoch 87/100\n",
      "6/6 [==============================] - 0s 35ms/step - loss: 0.0151 - val_loss: nan\n",
      "Epoch 88/100\n",
      "6/6 [==============================] - 0s 34ms/step - loss: 0.0161 - val_loss: nan\n",
      "Epoch 89/100\n",
      "6/6 [==============================] - 0s 34ms/step - loss: 0.0156 - val_loss: nan\n",
      "Epoch 90/100\n",
      "6/6 [==============================] - 0s 34ms/step - loss: 0.0154 - val_loss: nan\n",
      "Epoch 91/100\n",
      "6/6 [==============================] - 0s 34ms/step - loss: 0.0156 - val_loss: nan\n",
      "Epoch 92/100\n",
      "6/6 [==============================] - 0s 35ms/step - loss: 0.0160 - val_loss: nan\n",
      "Epoch 93/100\n",
      "6/6 [==============================] - 0s 35ms/step - loss: 0.0153 - val_loss: nan\n",
      "Epoch 94/100\n",
      "6/6 [==============================] - 0s 39ms/step - loss: 0.0151 - val_loss: nan\n",
      "Epoch 95/100\n",
      "6/6 [==============================] - 0s 39ms/step - loss: 0.0150 - val_loss: nan\n",
      "Epoch 96/100\n",
      "6/6 [==============================] - 0s 38ms/step - loss: 0.0148 - val_loss: nan\n",
      "Epoch 97/100\n",
      "6/6 [==============================] - 0s 40ms/step - loss: 0.0149 - val_loss: nan\n",
      "Epoch 98/100\n",
      "6/6 [==============================] - 0s 39ms/step - loss: 0.0144 - val_loss: nan\n",
      "Epoch 99/100\n",
      "6/6 [==============================] - 0s 39ms/step - loss: 0.0145 - val_loss: nan\n",
      "Epoch 100/100\n",
      "6/6 [==============================] - 0s 38ms/step - loss: 0.0156 - val_loss: nan\n"
     ]
    }
   ],
   "source": [
    "tp._create_lstm_model(x_train.shape)\n",
    "tp._train_model(x_train, y_train, x_test, y_test)"
   ]
  },
  {
   "cell_type": "code",
   "execution_count": 5,
   "metadata": {},
   "outputs": [
    {
     "name": "stdout",
     "output_type": "stream",
     "text": [
      "1/1 [==============================] - 1s 716ms/step\n"
     ]
    },
    {
     "data": {
      "text/plain": [
       "61.095512"
      ]
     },
     "execution_count": 5,
     "metadata": {},
     "output_type": "execute_result"
    }
   ],
   "source": [
    "prediction = tp._predict()\n",
    "\n",
    "prediction[0][0]"
   ]
  },
  {
   "cell_type": "code",
   "execution_count": 7,
   "metadata": {},
   "outputs": [
    {
     "name": "stdout",
     "output_type": "stream",
     "text": [
      "Enter trade\n"
     ]
    }
   ],
   "source": [
    "import json\n",
    "\n",
    "predicted_high = prediction\n",
    "todays_open = json.load(open('./data/todays/GBTC.json'))['open']\n",
    "\n",
    "probability_threshold = 60  # Probability threshold (e.g., 60%)\n",
    "\n",
    "probability = tp.calculate_probability(predicted_high, todays_open)\n",
    "if probability > probability_threshold:\n",
    "    print(\"Enter trade\")\n",
    "else:\n",
    "    print(\"Do not enter trade\")\n"
   ]
  },
  {
   "cell_type": "code",
   "execution_count": null,
   "metadata": {},
   "outputs": [],
   "source": []
  }
 ],
 "metadata": {
  "kernelspec": {
   "display_name": "Python 3",
   "language": "python",
   "name": "python3"
  },
  "language_info": {
   "codemirror_mode": {
    "name": "ipython",
    "version": 3
   },
   "file_extension": ".py",
   "mimetype": "text/x-python",
   "name": "python",
   "nbconvert_exporter": "python",
   "pygments_lexer": "ipython3",
   "version": "3.11.5"
  }
 },
 "nbformat": 4,
 "nbformat_minor": 2
}
